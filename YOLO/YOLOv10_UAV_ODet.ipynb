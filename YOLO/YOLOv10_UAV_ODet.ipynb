{
 "cells": [
  {
   "cell_type": "code",
   "execution_count": 5,
   "id": "174ac34b-ecae-4fba-9234-b4e1c386a427",
   "metadata": {},
   "outputs": [],
   "source": [
    "from ultralytics import YOLO\n",
    "import numpy as np\n",
    "\n",
    "import os\n",
    "os.environ['KMP_DUPLICATE_LIB_OK'] = 'True'"
   ]
  },
  {
   "cell_type": "markdown",
   "id": "fe9df1a7-45ee-4aa5-8380-9ab22b0e10ef",
   "metadata": {},
   "source": [
    "### YOLOv10 training"
   ]
  },
  {
   "cell_type": "code",
   "execution_count": 3,
   "id": "271983a0-fbe2-4731-8ce1-601392f67925",
   "metadata": {},
   "outputs": [
    {
     "name": "stdout",
     "output_type": "stream",
     "text": [
      "New https://pypi.org/project/ultralytics/8.3.93 available  Update with 'pip install -U ultralytics'\n",
      "Ultralytics 8.3.49  Python-3.12.4 torch-2.5.1+cpu CPU (AMD Ryzen 5 3500U with Radeon Vega Mobile Gfx)\n",
      "\u001b[34m\u001b[1mengine\\trainer: \u001b[0mtask=detect, mode=train, model=yolov10n.yaml, data=D:\\UAV_obj_det\\datasets\\dataset.yaml, epochs=20, time=None, patience=0, batch=10, imgsz=512, save=True, save_period=-1, cache=False, device=cpu, workers=4, project=None, name=yolov10n_20e, exist_ok=False, pretrained=False, optimizer=Adam, verbose=True, seed=0, deterministic=True, single_cls=False, rect=False, cos_lr=False, close_mosaic=10, resume=None, amp=True, fraction=1.0, profile=False, freeze=None, multi_scale=False, overlap_mask=True, mask_ratio=4, dropout=0.0, val=True, split=val, save_json=False, save_hybrid=False, conf=None, iou=0.7, max_det=300, half=False, dnn=False, plots=True, source=None, vid_stride=1, stream_buffer=False, visualize=False, augment=False, agnostic_nms=False, classes=None, retina_masks=False, embed=None, show=False, save_frames=False, save_txt=False, save_conf=False, save_crop=False, show_labels=True, show_conf=True, show_boxes=True, line_width=None, format=torchscript, keras=False, optimize=False, int8=False, dynamic=False, simplify=True, opset=None, workspace=None, nms=False, lr0=0.01, lrf=0.01, momentum=0.937, weight_decay=0.0005, warmup_epochs=3.0, warmup_momentum=0.8, warmup_bias_lr=0.1, box=7.5, cls=0.5, dfl=1.5, pose=12.0, kobj=1.0, nbs=64, hsv_h=0.015, hsv_s=0.7, hsv_v=0.4, degrees=0.0, translate=0.1, scale=0.5, shear=0.0, perspective=0.0, flipud=0.0, fliplr=0.5, bgr=0.0, mosaic=1.0, mixup=0.0, copy_paste=0.0, copy_paste_mode=flip, auto_augment=randaugment, erasing=0.4, crop_fraction=1.0, cfg=None, tracker=botsort.yaml, save_dir=runs\\detect\\yolov10n_20e\n",
      "Overriding model.yaml nc=80 with nc=5\n",
      "\n",
      "                   from  n    params  module                                       arguments                     \n",
      "  0                  -1  1       464  ultralytics.nn.modules.conv.Conv             [3, 16, 3, 2]                 \n",
      "  1                  -1  1      4672  ultralytics.nn.modules.conv.Conv             [16, 32, 3, 2]                \n",
      "  2                  -1  1      7360  ultralytics.nn.modules.block.C2f             [32, 32, 1, True]             \n",
      "  3                  -1  1     18560  ultralytics.nn.modules.conv.Conv             [32, 64, 3, 2]                \n",
      "  4                  -1  2     49664  ultralytics.nn.modules.block.C2f             [64, 64, 2, True]             \n",
      "  5                  -1  1      9856  ultralytics.nn.modules.block.SCDown          [64, 128, 3, 2]               \n",
      "  6                  -1  2    197632  ultralytics.nn.modules.block.C2f             [128, 128, 2, True]           \n",
      "  7                  -1  1     36096  ultralytics.nn.modules.block.SCDown          [128, 256, 3, 2]              \n",
      "  8                  -1  1    460288  ultralytics.nn.modules.block.C2f             [256, 256, 1, True]           \n",
      "  9                  -1  1    164608  ultralytics.nn.modules.block.SPPF            [256, 256, 5]                 \n",
      " 10                  -1  1    249728  ultralytics.nn.modules.block.PSA             [256, 256]                    \n",
      " 11                  -1  1         0  torch.nn.modules.upsampling.Upsample         [None, 2, 'nearest']          \n",
      " 12             [-1, 6]  1         0  ultralytics.nn.modules.conv.Concat           [1]                           \n",
      " 13                  -1  1    148224  ultralytics.nn.modules.block.C2f             [384, 128, 1]                 \n",
      " 14                  -1  1         0  torch.nn.modules.upsampling.Upsample         [None, 2, 'nearest']          \n",
      " 15             [-1, 4]  1         0  ultralytics.nn.modules.conv.Concat           [1]                           \n",
      " 16                  -1  1     37248  ultralytics.nn.modules.block.C2f             [192, 64, 1]                  \n",
      " 17                  -1  1     36992  ultralytics.nn.modules.conv.Conv             [64, 64, 3, 2]                \n",
      " 18            [-1, 13]  1         0  ultralytics.nn.modules.conv.Concat           [1]                           \n",
      " 19                  -1  1    123648  ultralytics.nn.modules.block.C2f             [192, 128, 1]                 \n",
      " 20                  -1  1     18048  ultralytics.nn.modules.block.SCDown          [128, 128, 3, 2]              \n",
      " 21            [-1, 10]  1         0  ultralytics.nn.modules.conv.Concat           [1]                           \n",
      " 22                  -1  1    282624  ultralytics.nn.modules.block.C2fCIB          [384, 256, 1, True, True]     \n",
      " 23        [16, 19, 22]  1    863278  ultralytics.nn.modules.head.v10Detect        [5, [64, 128, 256]]           \n",
      "YOLOv10n summary: 385 layers, 2,708,990 parameters, 2,708,974 gradients, 8.4 GFLOPs\n",
      "\n",
      "\u001b[34m\u001b[1mTensorBoard: \u001b[0mStart with 'tensorboard --logdir runs\\detect\\yolov10n_20e', view at http://localhost:6006/\n",
      "Freezing layer 'model.23.dfl.conv.weight'\n"
     ]
    },
    {
     "name": "stderr",
     "output_type": "stream",
     "text": [
      "\u001b[34m\u001b[1mtrain: \u001b[0mScanning D:\\UAV_obj_det\\datasets\\labels\\train.cache... 2008 images, 0 backgrounds, 0 corrupt: 100%|██████████| 2\u001b[0m\n",
      "\u001b[34m\u001b[1mval: \u001b[0mScanning D:\\UAV_obj_det\\datasets\\labels\\val.cache... 287 images, 0 backgrounds, 0 corrupt: 100%|██████████| 287/28\u001b[0m\n"
     ]
    },
    {
     "name": "stdout",
     "output_type": "stream",
     "text": [
      "Plotting labels to runs\\detect\\yolov10n_20e\\labels.jpg... \n",
      "\u001b[34m\u001b[1moptimizer:\u001b[0m Adam(lr=0.01, momentum=0.937) with parameter groups 95 weight(decay=0.0), 108 weight(decay=0.00046875), 107 bias(decay=0.0)\n",
      "\u001b[34m\u001b[1mTensorBoard: \u001b[0mmodel graph visualization added \n",
      "Image sizes 512 train, 512 val\n",
      "Using 0 dataloader workers\n",
      "Logging results to \u001b[1mruns\\detect\\yolov10n_20e\u001b[0m\n",
      "Starting training for 20 epochs...\n",
      "\n",
      "      Epoch    GPU_mem   box_loss   cls_loss   dfl_loss  Instances       Size\n"
     ]
    },
    {
     "name": "stderr",
     "output_type": "stream",
     "text": [
      "       1/20         0G      6.883      6.711      3.579        133        512: 100%|██████████| 201/201 [13:09<00:00,  \n",
      "                 Class     Images  Instances      Box(P          R      mAP50  mAP50-95): 100%|██████████| 15/15 [00:40"
     ]
    },
    {
     "name": "stdout",
     "output_type": "stream",
     "text": [
      "                   all        287       2460      0.264     0.0592     0.0312    0.00911\n"
     ]
    },
    {
     "name": "stderr",
     "output_type": "stream",
     "text": [
      "\n"
     ]
    },
    {
     "name": "stdout",
     "output_type": "stream",
     "text": [
      "\n",
      "      Epoch    GPU_mem   box_loss   cls_loss   dfl_loss  Instances       Size\n"
     ]
    },
    {
     "name": "stderr",
     "output_type": "stream",
     "text": [
      "       2/20         0G      5.221      4.738      2.641         88        512: 100%|██████████| 201/201 [12:32<00:00,  \n",
      "                 Class     Images  Instances      Box(P          R      mAP50  mAP50-95): 100%|██████████| 15/15 [00:35"
     ]
    },
    {
     "name": "stdout",
     "output_type": "stream",
     "text": [
      "                   all        287       2460      0.578      0.164      0.128     0.0429\n"
     ]
    },
    {
     "name": "stderr",
     "output_type": "stream",
     "text": [
      "\n"
     ]
    },
    {
     "name": "stdout",
     "output_type": "stream",
     "text": [
      "\n",
      "      Epoch    GPU_mem   box_loss   cls_loss   dfl_loss  Instances       Size\n"
     ]
    },
    {
     "name": "stderr",
     "output_type": "stream",
     "text": [
      "       3/20         0G      4.793      4.292        2.5        118        512: 100%|██████████| 201/201 [12:18<00:00,  \n",
      "                 Class     Images  Instances      Box(P          R      mAP50  mAP50-95): 100%|██████████| 15/15 [00:36"
     ]
    },
    {
     "name": "stdout",
     "output_type": "stream",
     "text": [
      "                   all        287       2460      0.591      0.204      0.167     0.0652\n"
     ]
    },
    {
     "name": "stderr",
     "output_type": "stream",
     "text": [
      "\n"
     ]
    },
    {
     "name": "stdout",
     "output_type": "stream",
     "text": [
      "\n",
      "      Epoch    GPU_mem   box_loss   cls_loss   dfl_loss  Instances       Size\n"
     ]
    },
    {
     "name": "stderr",
     "output_type": "stream",
     "text": [
      "       4/20         0G       4.53       4.01      2.449         72        512: 100%|██████████| 201/201 [12:22<00:00,  \n",
      "                 Class     Images  Instances      Box(P          R      mAP50  mAP50-95): 100%|██████████| 15/15 [00:35"
     ]
    },
    {
     "name": "stdout",
     "output_type": "stream",
     "text": [
      "                   all        287       2460      0.459      0.202      0.173      0.067\n"
     ]
    },
    {
     "name": "stderr",
     "output_type": "stream",
     "text": [
      "\n"
     ]
    },
    {
     "name": "stdout",
     "output_type": "stream",
     "text": [
      "\n",
      "      Epoch    GPU_mem   box_loss   cls_loss   dfl_loss  Instances       Size\n"
     ]
    },
    {
     "name": "stderr",
     "output_type": "stream",
     "text": [
      "       5/20         0G      4.337      3.716      2.365        144        512: 100%|██████████| 201/201 [12:22<00:00,  \n",
      "                 Class     Images  Instances      Box(P          R      mAP50  mAP50-95): 100%|██████████| 15/15 [00:35"
     ]
    },
    {
     "name": "stdout",
     "output_type": "stream",
     "text": [
      "                   all        287       2460      0.656      0.278      0.257       0.11\n"
     ]
    },
    {
     "name": "stderr",
     "output_type": "stream",
     "text": [
      "\n"
     ]
    },
    {
     "name": "stdout",
     "output_type": "stream",
     "text": [
      "\n",
      "      Epoch    GPU_mem   box_loss   cls_loss   dfl_loss  Instances       Size\n"
     ]
    },
    {
     "name": "stderr",
     "output_type": "stream",
     "text": [
      "       6/20         0G      4.187      3.559       2.31        124        512: 100%|██████████| 201/201 [12:21<00:00,  \n",
      "                 Class     Images  Instances      Box(P          R      mAP50  mAP50-95): 100%|██████████| 15/15 [00:35"
     ]
    },
    {
     "name": "stdout",
     "output_type": "stream",
     "text": [
      "                   all        287       2460      0.686      0.263       0.26      0.116\n"
     ]
    },
    {
     "name": "stderr",
     "output_type": "stream",
     "text": [
      "\n"
     ]
    },
    {
     "name": "stdout",
     "output_type": "stream",
     "text": [
      "\n",
      "      Epoch    GPU_mem   box_loss   cls_loss   dfl_loss  Instances       Size\n"
     ]
    },
    {
     "name": "stderr",
     "output_type": "stream",
     "text": [
      "       7/20         0G      4.185      3.497      2.289         70        512: 100%|██████████| 201/201 [12:55<00:00,  \n",
      "                 Class     Images  Instances      Box(P          R      mAP50  mAP50-95): 100%|██████████| 15/15 [00:37"
     ]
    },
    {
     "name": "stdout",
     "output_type": "stream",
     "text": [
      "                   all        287       2460      0.821      0.199      0.264      0.116\n"
     ]
    },
    {
     "name": "stderr",
     "output_type": "stream",
     "text": [
      "\n"
     ]
    },
    {
     "name": "stdout",
     "output_type": "stream",
     "text": [
      "\n",
      "      Epoch    GPU_mem   box_loss   cls_loss   dfl_loss  Instances       Size\n"
     ]
    },
    {
     "name": "stderr",
     "output_type": "stream",
     "text": [
      "       8/20         0G      4.055      3.341      2.253         95        512: 100%|██████████| 201/201 [13:09<00:00,  \n",
      "                 Class     Images  Instances      Box(P          R      mAP50  mAP50-95): 100%|██████████| 15/15 [00:35"
     ]
    },
    {
     "name": "stdout",
     "output_type": "stream",
     "text": [
      "                   all        287       2460       0.65      0.295      0.256      0.106\n"
     ]
    },
    {
     "name": "stderr",
     "output_type": "stream",
     "text": [
      "\n"
     ]
    },
    {
     "name": "stdout",
     "output_type": "stream",
     "text": [
      "\n",
      "      Epoch    GPU_mem   box_loss   cls_loss   dfl_loss  Instances       Size\n"
     ]
    },
    {
     "name": "stderr",
     "output_type": "stream",
     "text": [
      "       9/20         0G      4.002       3.26      2.243        148        512: 100%|██████████| 201/201 [12:20<00:00,  \n",
      "                 Class     Images  Instances      Box(P          R      mAP50  mAP50-95): 100%|██████████| 15/15 [00:35"
     ]
    },
    {
     "name": "stdout",
     "output_type": "stream",
     "text": [
      "                   all        287       2460      0.695      0.279       0.27      0.123\n"
     ]
    },
    {
     "name": "stderr",
     "output_type": "stream",
     "text": [
      "\n"
     ]
    },
    {
     "name": "stdout",
     "output_type": "stream",
     "text": [
      "\n",
      "      Epoch    GPU_mem   box_loss   cls_loss   dfl_loss  Instances       Size\n"
     ]
    },
    {
     "name": "stderr",
     "output_type": "stream",
     "text": [
      "      10/20         0G      3.893      3.151      2.221         66        512: 100%|██████████| 201/201 [12:18<00:00,  \n",
      "                 Class     Images  Instances      Box(P          R      mAP50  mAP50-95): 100%|██████████| 15/15 [00:34"
     ]
    },
    {
     "name": "stdout",
     "output_type": "stream",
     "text": [
      "                   all        287       2460      0.711      0.278      0.303      0.143\n"
     ]
    },
    {
     "name": "stderr",
     "output_type": "stream",
     "text": [
      "\n"
     ]
    },
    {
     "name": "stdout",
     "output_type": "stream",
     "text": [
      "Closing dataloader mosaic\n",
      "\n",
      "      Epoch    GPU_mem   box_loss   cls_loss   dfl_loss  Instances       Size\n"
     ]
    },
    {
     "name": "stderr",
     "output_type": "stream",
     "text": [
      "      11/20         0G      3.717      3.121      2.208         39        512: 100%|██████████| 201/201 [12:03<00:00,  \n",
      "                 Class     Images  Instances      Box(P          R      mAP50  mAP50-95): 100%|██████████| 15/15 [00:35"
     ]
    },
    {
     "name": "stdout",
     "output_type": "stream",
     "text": [
      "                   all        287       2460      0.744      0.302      0.321      0.164\n"
     ]
    },
    {
     "name": "stderr",
     "output_type": "stream",
     "text": [
      "\n"
     ]
    },
    {
     "name": "stdout",
     "output_type": "stream",
     "text": [
      "\n",
      "      Epoch    GPU_mem   box_loss   cls_loss   dfl_loss  Instances       Size\n"
     ]
    },
    {
     "name": "stderr",
     "output_type": "stream",
     "text": [
      "      12/20         0G      3.661      2.983       2.19         66        512: 100%|██████████| 201/201 [11:58<00:00,  \n",
      "                 Class     Images  Instances      Box(P          R      mAP50  mAP50-95): 100%|██████████| 15/15 [00:35"
     ]
    },
    {
     "name": "stdout",
     "output_type": "stream",
     "text": [
      "                   all        287       2460      0.626      0.366      0.366      0.187\n"
     ]
    },
    {
     "name": "stderr",
     "output_type": "stream",
     "text": [
      "\n"
     ]
    },
    {
     "name": "stdout",
     "output_type": "stream",
     "text": [
      "\n",
      "      Epoch    GPU_mem   box_loss   cls_loss   dfl_loss  Instances       Size\n"
     ]
    },
    {
     "name": "stderr",
     "output_type": "stream",
     "text": [
      "      13/20         0G      3.614      2.814      2.173         69        512: 100%|██████████| 201/201 [11:57<00:00,  \n",
      "                 Class     Images  Instances      Box(P          R      mAP50  mAP50-95): 100%|██████████| 15/15 [00:35"
     ]
    },
    {
     "name": "stdout",
     "output_type": "stream",
     "text": [
      "                   all        287       2460      0.758       0.32      0.344      0.175\n"
     ]
    },
    {
     "name": "stderr",
     "output_type": "stream",
     "text": [
      "\n"
     ]
    },
    {
     "name": "stdout",
     "output_type": "stream",
     "text": [
      "\n",
      "      Epoch    GPU_mem   box_loss   cls_loss   dfl_loss  Instances       Size\n"
     ]
    },
    {
     "name": "stderr",
     "output_type": "stream",
     "text": [
      "      14/20         0G      3.684      2.813      2.185         52        512: 100%|██████████| 201/201 [11:58<00:00,  \n",
      "                 Class     Images  Instances      Box(P          R      mAP50  mAP50-95): 100%|██████████| 15/15 [00:35"
     ]
    },
    {
     "name": "stdout",
     "output_type": "stream",
     "text": [
      "                   all        287       2460      0.641      0.321      0.368      0.183\n"
     ]
    },
    {
     "name": "stderr",
     "output_type": "stream",
     "text": [
      "\n"
     ]
    },
    {
     "name": "stdout",
     "output_type": "stream",
     "text": [
      "\n",
      "      Epoch    GPU_mem   box_loss   cls_loss   dfl_loss  Instances       Size\n"
     ]
    },
    {
     "name": "stderr",
     "output_type": "stream",
     "text": [
      "      15/20         0G      3.561      2.748      2.157        107        512: 100%|██████████| 201/201 [11:57<00:00,  \n",
      "                 Class     Images  Instances      Box(P          R      mAP50  mAP50-95): 100%|██████████| 15/15 [00:35"
     ]
    },
    {
     "name": "stdout",
     "output_type": "stream",
     "text": [
      "                   all        287       2460       0.68      0.367      0.397       0.21\n"
     ]
    },
    {
     "name": "stderr",
     "output_type": "stream",
     "text": [
      "\n"
     ]
    },
    {
     "name": "stdout",
     "output_type": "stream",
     "text": [
      "\n",
      "      Epoch    GPU_mem   box_loss   cls_loss   dfl_loss  Instances       Size\n"
     ]
    },
    {
     "name": "stderr",
     "output_type": "stream",
     "text": [
      "      16/20         0G      3.456      2.649       2.11         69        512: 100%|██████████| 201/201 [12:02<00:00,  \n",
      "                 Class     Images  Instances      Box(P          R      mAP50  mAP50-95): 100%|██████████| 15/15 [00:35"
     ]
    },
    {
     "name": "stdout",
     "output_type": "stream",
     "text": [
      "                   all        287       2460      0.644       0.37      0.402      0.213\n"
     ]
    },
    {
     "name": "stderr",
     "output_type": "stream",
     "text": [
      "\n"
     ]
    },
    {
     "name": "stdout",
     "output_type": "stream",
     "text": [
      "\n",
      "      Epoch    GPU_mem   box_loss   cls_loss   dfl_loss  Instances       Size\n"
     ]
    },
    {
     "name": "stderr",
     "output_type": "stream",
     "text": [
      "      17/20         0G      3.452       2.56      2.103         31        512: 100%|██████████| 201/201 [11:58<00:00,  \n",
      "                 Class     Images  Instances      Box(P          R      mAP50  mAP50-95): 100%|██████████| 15/15 [00:35"
     ]
    },
    {
     "name": "stdout",
     "output_type": "stream",
     "text": [
      "                   all        287       2460      0.702      0.395      0.418      0.221\n"
     ]
    },
    {
     "name": "stderr",
     "output_type": "stream",
     "text": [
      "\n"
     ]
    },
    {
     "name": "stdout",
     "output_type": "stream",
     "text": [
      "\n",
      "      Epoch    GPU_mem   box_loss   cls_loss   dfl_loss  Instances       Size\n"
     ]
    },
    {
     "name": "stderr",
     "output_type": "stream",
     "text": [
      "      18/20         0G      3.377      2.527      2.091         71        512: 100%|██████████| 201/201 [11:56<00:00,  \n",
      "                 Class     Images  Instances      Box(P          R      mAP50  mAP50-95): 100%|██████████| 15/15 [00:35"
     ]
    },
    {
     "name": "stdout",
     "output_type": "stream",
     "text": [
      "                   all        287       2460      0.731       0.38       0.43      0.232\n"
     ]
    },
    {
     "name": "stderr",
     "output_type": "stream",
     "text": [
      "\n"
     ]
    },
    {
     "name": "stdout",
     "output_type": "stream",
     "text": [
      "\n",
      "      Epoch    GPU_mem   box_loss   cls_loss   dfl_loss  Instances       Size\n"
     ]
    },
    {
     "name": "stderr",
     "output_type": "stream",
     "text": [
      "      19/20         0G       3.34      2.448      2.068         86        512: 100%|██████████| 201/201 [11:58<00:00,  \n",
      "                 Class     Images  Instances      Box(P          R      mAP50  mAP50-95): 100%|██████████| 15/15 [00:35"
     ]
    },
    {
     "name": "stdout",
     "output_type": "stream",
     "text": [
      "                   all        287       2460      0.783      0.431      0.456       0.24\n"
     ]
    },
    {
     "name": "stderr",
     "output_type": "stream",
     "text": [
      "\n"
     ]
    },
    {
     "name": "stdout",
     "output_type": "stream",
     "text": [
      "\n",
      "      Epoch    GPU_mem   box_loss   cls_loss   dfl_loss  Instances       Size\n"
     ]
    },
    {
     "name": "stderr",
     "output_type": "stream",
     "text": [
      "      20/20         0G      3.264      2.388      2.051         85        512: 100%|██████████| 201/201 [11:57<00:00,  \n",
      "                 Class     Images  Instances      Box(P          R      mAP50  mAP50-95): 100%|██████████| 15/15 [00:35"
     ]
    },
    {
     "name": "stdout",
     "output_type": "stream",
     "text": [
      "                   all        287       2460      0.791      0.426      0.458      0.243\n"
     ]
    },
    {
     "name": "stderr",
     "output_type": "stream",
     "text": [
      "\n"
     ]
    },
    {
     "name": "stdout",
     "output_type": "stream",
     "text": [
      "\n",
      "20 epochs completed in 4.305 hours.\n",
      "Optimizer stripped from runs\\detect\\yolov10n_20e\\weights\\last.pt, 5.7MB\n",
      "Optimizer stripped from runs\\detect\\yolov10n_20e\\weights\\best.pt, 5.7MB\n",
      "\n",
      "Validating runs\\detect\\yolov10n_20e\\weights\\best.pt...\n",
      "WARNING  validating an untrained model YAML will result in 0 mAP.\n",
      "Ultralytics 8.3.49  Python-3.12.4 torch-2.5.1+cpu CPU (AMD Ryzen 5 3500U with Radeon Vega Mobile Gfx)\n",
      "YOLOv10n summary (fused): 285 layers, 2,696,366 parameters, 0 gradients, 8.2 GFLOPs\n"
     ]
    },
    {
     "name": "stderr",
     "output_type": "stream",
     "text": [
      "                 Class     Images  Instances      Box(P          R      mAP50  mAP50-95): 100%|██████████| 15/15 [00:26\n"
     ]
    },
    {
     "name": "stdout",
     "output_type": "stream",
     "text": [
      "                   all        287       2460      0.792      0.426      0.458      0.243\n",
      "                Person        171       1168      0.669      0.633      0.681      0.327\n",
      "                   Car        136        719      0.704      0.748      0.796      0.524\n",
      "               Bicycle         53        554      0.585      0.466      0.512      0.249\n",
      "          OtherVehicle          9         12          1          0     0.0145     0.0125\n",
      "              DontCare          5          7          1      0.281      0.287      0.102\n",
      "Speed: 1.5ms preprocess, 80.7ms inference, 0.0ms loss, 0.1ms postprocess per image\n",
      "Results saved to \u001b[1mruns\\detect\\yolov10n_20e\u001b[0m\n"
     ]
    }
   ],
   "source": [
    "model = YOLO('yolov10n.yaml')\n",
    "\n",
    "result = model.train(\n",
    "    optimizer = 'Adam',\n",
    "    data = r\"D:\\UAV_obj_det\\datasets\\dataset.yaml\",\n",
    "    epochs = 20,\n",
    "    batch = 10,\n",
    "    imgsz = 512,\n",
    "    device = 'cpu',\n",
    "    workers = 4,\n",
    "    patience = 0,\n",
    "    resume = 1,\n",
    "    lr0 = 0.01,\n",
    "    pretrained = False,\n",
    "    name = 'yolov10n_20e'\n",
    ")"
   ]
  },
  {
   "cell_type": "markdown",
   "id": "80d81a4c-f7f3-4b04-a3b5-5de3f7f11efb",
   "metadata": {},
   "source": [
    "### Testing YOLOv10 best.pt"
   ]
  },
  {
   "cell_type": "code",
   "execution_count": 6,
   "id": "ef8faa82-657f-427d-8896-3995d3d6d67c",
   "metadata": {},
   "outputs": [
    {
     "name": "stdout",
     "output_type": "stream",
     "text": [
      "Ultralytics 8.3.94  Python-3.12.4 torch-2.5.1+cpu CPU (AMD Ryzen 5 3500U with Radeon Vega Mobile Gfx)\n",
      "YOLOv10n summary (fused): 125 layers, 2,696,366 parameters, 0 gradients, 8.2 GFLOPs\n"
     ]
    },
    {
     "name": "stderr",
     "output_type": "stream",
     "text": [
      "\u001b[34m\u001b[1mval: \u001b[0mScanning D:\\UAV_obj_det\\datasets\\labels\\test.cache... 571 images, 0 backgrounds, 0 corrupt: 100%|██████████| 571/5\u001b[0m\n",
      "                 Class     Images  Instances      Box(P          R      mAP50  mAP50-95): 100%|██████████| 36/36 [00:51\n"
     ]
    },
    {
     "name": "stdout",
     "output_type": "stream",
     "text": [
      "                   all        571       4811      0.786      0.469      0.506      0.285\n",
      "                Person        355       2611      0.661      0.671      0.711      0.337\n",
      "                   Car        267       1339      0.665      0.788      0.808      0.543\n",
      "               Bicycle         86        796      0.607      0.594      0.621      0.332\n",
      "          OtherVehicle         21         34          1          0     0.0223     0.0127\n",
      "              DontCare         23         31          1      0.289      0.367      0.202\n",
      "Speed: 1.1ms preprocess, 76.9ms inference, 0.0ms loss, 0.1ms postprocess per image\n",
      "Results saved to \u001b[1mruns\\detect\\val\u001b[0m\n"
     ]
    }
   ],
   "source": [
    "model = YOLO(r\"D:\\UAV_obj_det\\runs\\detect\\yolov10n_20e\\weights\\best.pt\")\n",
    "results = model.val(data = r\"D:\\UAV_obj_det\\datasets\\dataset.yaml\", split = \"test\")"
   ]
  },
  {
   "cell_type": "markdown",
   "id": "ff911675-0387-4885-b654-4592a352761b",
   "metadata": {},
   "source": [
    "### Rain Aumentation Testing YOLOv10 best.pt"
   ]
  },
  {
   "cell_type": "code",
   "execution_count": 6,
   "id": "8c2f87f3-e4d9-4043-b926-691a3cd1dce6",
   "metadata": {},
   "outputs": [
    {
     "name": "stdout",
     "output_type": "stream",
     "text": [
      "Ultralytics 8.3.94  Python-3.12.4 torch-2.5.1+cpu CPU (AMD Ryzen 5 3500U with Radeon Vega Mobile Gfx)\n",
      "YOLOv10n summary (fused): 125 layers, 2,696,366 parameters, 0 gradients, 8.2 GFLOPs\n"
     ]
    },
    {
     "name": "stderr",
     "output_type": "stream",
     "text": [
      "\u001b[34m\u001b[1mval: \u001b[0mScanning D:\\UAV_obj_det\\datasets\\rain\\labels\\test.cache... 571 images, 0 backgrounds, 0 corrupt: 100%|██████████| \u001b[0m\n",
      "                 Class     Images  Instances      Box(P          R      mAP50  mAP50-95): 100%|██████████| 36/36 [00:49\n"
     ]
    },
    {
     "name": "stdout",
     "output_type": "stream",
     "text": [
      "                   all        571       4811      0.733      0.295       0.35      0.179\n",
      "                Person        355       2611      0.694      0.272      0.461      0.203\n",
      "                   Car        267       1339      0.549      0.583      0.596      0.364\n",
      "               Bicycle         86        796      0.424      0.438      0.413      0.213\n",
      "          OtherVehicle         21         34          1          0    0.00574    0.00318\n",
      "              DontCare         23         31          1       0.18      0.273      0.113\n",
      "Speed: 0.9ms preprocess, 76.3ms inference, 0.0ms loss, 0.1ms postprocess per image\n",
      "Results saved to \u001b[1mruns\\detect\\val\u001b[0m\n"
     ]
    }
   ],
   "source": [
    "model_rain = YOLO(r\"D:\\UAV_obj_det\\runs\\detect\\yolov10n_20e\\weights\\best.pt\")\n",
    "metrics_rain = model_rain.val(data = r\"D:\\UAV_obj_det\\datasets\\rain_dataset.yaml\", split = \"test\")"
   ]
  },
  {
   "cell_type": "markdown",
   "id": "486e025b-1de7-4e5f-a876-68e5a9635d6a",
   "metadata": {},
   "source": [
    "### Rotation Augmention Testing YOLOv10 best.pt"
   ]
  },
  {
   "cell_type": "code",
   "execution_count": 4,
   "id": "60292b3d-e769-43df-a52e-4b3ce4867628",
   "metadata": {},
   "outputs": [
    {
     "name": "stdout",
     "output_type": "stream",
     "text": [
      "Ultralytics 8.3.94  Python-3.12.4 torch-2.5.1+cpu CPU (AMD Ryzen 5 3500U with Radeon Vega Mobile Gfx)\n",
      "YOLOv10n summary (fused): 125 layers, 2,696,366 parameters, 0 gradients, 8.2 GFLOPs\n"
     ]
    },
    {
     "name": "stderr",
     "output_type": "stream",
     "text": [
      "\u001b[34m\u001b[1mval: \u001b[0mScanning D:\\UAV_obj_det\\datasets\\rotate\\labels.cache... 571 images, 1 backgrounds, 0 corrupt: 100%|██████████| 571\u001b[0m\n",
      "                 Class     Images  Instances      Box(P          R      mAP50  mAP50-95): 100%|██████████| 36/36 [00:52\n"
     ]
    },
    {
     "name": "stdout",
     "output_type": "stream",
     "text": [
      "                   all        571       4581      0.677      0.328      0.332      0.117\n",
      "                Person        352       2472      0.581      0.538      0.545      0.178\n",
      "                   Car        265       1292      0.568      0.567      0.535      0.207\n",
      "               Bicycle         84        754      0.493      0.435      0.406      0.124\n",
      "          OtherVehicle         21         34          1          0     0.0117     0.0051\n",
      "              DontCare         22         29      0.741     0.0997       0.16     0.0699\n",
      "Speed: 1.2ms preprocess, 78.6ms inference, 0.0ms loss, 0.1ms postprocess per image\n",
      "Results saved to \u001b[1mruns\\detect\\val\u001b[0m\n"
     ]
    }
   ],
   "source": [
    "model_rotate = YOLO(r\"D:\\UAV_obj_det\\runs\\detect\\yolov10n_20e\\weights\\best.pt\")\n",
    "metrics_rotate = model_rotate.val(data = r\"D:\\UAV_obj_det\\datasets\\rotate_dataset.yaml\", split = \"test\")"
   ]
  },
  {
   "cell_type": "markdown",
   "id": "e420f71c-2bc8-4347-8fec-516155558424",
   "metadata": {},
   "source": [
    "### Testing YOLOv10m best.pt"
   ]
  },
  {
   "cell_type": "code",
   "execution_count": 7,
   "id": "5f6ccfc8-182f-4a1c-a6a5-c9914232a802",
   "metadata": {},
   "outputs": [
    {
     "name": "stdout",
     "output_type": "stream",
     "text": [
      "Ultralytics 8.3.94  Python-3.12.4 torch-2.5.1+cpu CPU (AMD Ryzen 5 3500U with Radeon Vega Mobile Gfx)\n",
      "YOLOv10m summary (fused): 159 layers, 16,456,174 parameters, 0 gradients, 63.4 GFLOPs\n"
     ]
    },
    {
     "name": "stderr",
     "output_type": "stream",
     "text": [
      "\u001b[34m\u001b[1mval: \u001b[0mScanning D:\\UAV_obj_det\\datasets\\labels\\test.cache... 571 images, 0 backgrounds, 0 corrupt: 100%|██████████| 571/5\u001b[0m\n",
      "                 Class     Images  Instances      Box(P          R      mAP50  mAP50-95): 100%|██████████| 36/36 [04:04\n"
     ]
    },
    {
     "name": "stdout",
     "output_type": "stream",
     "text": [
      "                   all        571       4811      0.734      0.626      0.675      0.418\n",
      "                Person        355       2611      0.692      0.787      0.807      0.396\n",
      "                   Car        267       1339      0.843      0.904      0.941      0.679\n",
      "               Bicycle         86        796      0.736      0.791      0.838      0.505\n",
      "          OtherVehicle         21         34      0.766      0.194      0.351      0.265\n",
      "              DontCare         23         31      0.634      0.452      0.437      0.247\n",
      "Speed: 0.9ms preprocess, 418.4ms inference, 0.0ms loss, 0.1ms postprocess per image\n",
      "Results saved to \u001b[1mruns\\detect\\val3\u001b[0m\n"
     ]
    }
   ],
   "source": [
    "model = YOLO(r\"D:\\UAV_obj_det\\runs\\detect\\yolov10m_50e\\weights\\best.pt\")\n",
    "metrics = model.val(data = r\"D:\\UAV_obj_det\\datasets\\dataset.yaml\", split = \"test\")"
   ]
  },
  {
   "cell_type": "code",
   "execution_count": null,
   "id": "d13a9549-df08-4759-a3c3-b56c866734d8",
   "metadata": {},
   "outputs": [],
   "source": []
  }
 ],
 "metadata": {
  "kernelspec": {
   "display_name": "Python 3 (ipykernel)",
   "language": "python",
   "name": "python3"
  },
  "language_info": {
   "codemirror_mode": {
    "name": "ipython",
    "version": 3
   },
   "file_extension": ".py",
   "mimetype": "text/x-python",
   "name": "python",
   "nbconvert_exporter": "python",
   "pygments_lexer": "ipython3",
   "version": "3.12.4"
  }
 },
 "nbformat": 4,
 "nbformat_minor": 5
}
