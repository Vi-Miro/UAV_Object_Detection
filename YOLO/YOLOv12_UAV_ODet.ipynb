{
 "cells": [
  {
   "cell_type": "code",
   "execution_count": 9,
   "id": "956bdcc3-e86b-4039-a83c-ad2bdf0769c9",
   "metadata": {},
   "outputs": [],
   "source": [
    "from ultralytics import YOLO\n",
    "import numpy as np\n",
    "\n",
    "import os\n",
    "os.environ['KMP_DUPLICATE_LIB_OK'] = 'True'"
   ]
  },
  {
   "cell_type": "markdown",
   "id": "19d4efd9-37cf-4124-bf6b-5c518dd56046",
   "metadata": {},
   "source": [
    "### YOLOv12 training"
   ]
  },
  {
   "cell_type": "code",
   "execution_count": 4,
   "id": "af8ce31b-1b3c-4629-af79-2f6ed549e744",
   "metadata": {},
   "outputs": [
    {
     "name": "stdout",
     "output_type": "stream",
     "text": [
      "WARNING  no model scale passed. Assuming scale='n'.\n",
      "New https://pypi.org/project/ultralytics/8.3.98 available  Update with 'pip install -U ultralytics'\n",
      "Ultralytics 8.3.94  Python-3.12.4 torch-2.5.1+cpu CPU (AMD Ryzen 5 3500U with Radeon Vega Mobile Gfx)\n",
      "\u001b[34m\u001b[1mengine\\trainer: \u001b[0mtask=detect, mode=train, model=yolo12.yaml, data=D:\\UAV_obj_det\\datasets\\dataset.yaml, epochs=20, time=None, patience=0, batch=10, imgsz=512, save=True, save_period=-1, cache=False, device=cpu, workers=4, project=None, name=yolov12n_20e, exist_ok=False, pretrained=False, optimizer=Adam, verbose=True, seed=0, deterministic=True, single_cls=False, rect=False, cos_lr=False, close_mosaic=10, resume=None, amp=True, fraction=1.0, profile=False, freeze=None, multi_scale=False, overlap_mask=True, mask_ratio=4, dropout=0.0, val=True, split=val, save_json=False, save_hybrid=False, conf=None, iou=0.7, max_det=300, half=False, dnn=False, plots=True, source=None, vid_stride=1, stream_buffer=False, visualize=False, augment=False, agnostic_nms=False, classes=None, retina_masks=False, embed=None, show=False, save_frames=False, save_txt=False, save_conf=False, save_crop=False, show_labels=True, show_conf=True, show_boxes=True, line_width=None, format=torchscript, keras=False, optimize=False, int8=False, dynamic=False, simplify=True, opset=None, workspace=None, nms=False, lr0=0.01, lrf=0.01, momentum=0.937, weight_decay=0.0005, warmup_epochs=3.0, warmup_momentum=0.8, warmup_bias_lr=0.1, box=7.5, cls=0.5, dfl=1.5, pose=12.0, kobj=1.0, nbs=64, hsv_h=0.015, hsv_s=0.7, hsv_v=0.4, degrees=0.0, translate=0.1, scale=0.5, shear=0.0, perspective=0.0, flipud=0.0, fliplr=0.5, bgr=0.0, mosaic=1.0, mixup=0.0, copy_paste=0.0, copy_paste_mode=flip, auto_augment=randaugment, erasing=0.4, crop_fraction=1.0, cfg=None, tracker=botsort.yaml, save_dir=runs\\detect\\yolov12n_20e\n",
      "Overriding model.yaml nc=80 with nc=5\n",
      "WARNING  no model scale passed. Assuming scale='n'.\n",
      "\n",
      "                   from  n    params  module                                       arguments                     \n",
      "  0                  -1  1       464  ultralytics.nn.modules.conv.Conv             [3, 16, 3, 2]                 \n",
      "  1                  -1  1      4672  ultralytics.nn.modules.conv.Conv             [16, 32, 3, 2]                \n",
      "  2                  -1  1      6640  ultralytics.nn.modules.block.C3k2            [32, 64, 1, False, 0.25]      \n",
      "  3                  -1  1     36992  ultralytics.nn.modules.conv.Conv             [64, 64, 3, 2]                \n",
      "  4                  -1  1     26080  ultralytics.nn.modules.block.C3k2            [64, 128, 1, False, 0.25]     \n",
      "  5                  -1  1    147712  ultralytics.nn.modules.conv.Conv             [128, 128, 3, 2]              \n",
      "  6                  -1  2    180864  ultralytics.nn.modules.block.A2C2f           [128, 128, 2, True, 4]        \n",
      "  7                  -1  1    295424  ultralytics.nn.modules.conv.Conv             [128, 256, 3, 2]              \n",
      "  8                  -1  2    689408  ultralytics.nn.modules.block.A2C2f           [256, 256, 2, True, 1]        \n",
      "  9                  -1  1         0  torch.nn.modules.upsampling.Upsample         [None, 2, 'nearest']          \n",
      " 10             [-1, 6]  1         0  ultralytics.nn.modules.conv.Concat           [1]                           \n",
      " 11                  -1  1     86912  ultralytics.nn.modules.block.A2C2f           [384, 128, 1, False, -1]      \n",
      " 12                  -1  1         0  torch.nn.modules.upsampling.Upsample         [None, 2, 'nearest']          \n",
      " 13             [-1, 4]  1         0  ultralytics.nn.modules.conv.Concat           [1]                           \n",
      " 14                  -1  1     24000  ultralytics.nn.modules.block.A2C2f           [256, 64, 1, False, -1]       \n",
      " 15                  -1  1     36992  ultralytics.nn.modules.conv.Conv             [64, 64, 3, 2]                \n",
      " 16            [-1, 11]  1         0  ultralytics.nn.modules.conv.Concat           [1]                           \n",
      " 17                  -1  1     74624  ultralytics.nn.modules.block.A2C2f           [192, 128, 1, False, -1]      \n",
      " 18                  -1  1    147712  ultralytics.nn.modules.conv.Conv             [128, 128, 3, 2]              \n",
      " 19             [-1, 8]  1         0  ultralytics.nn.modules.conv.Concat           [1]                           \n",
      " 20                  -1  1    378880  ultralytics.nn.modules.block.C3k2            [384, 256, 1, True]           \n",
      " 21        [14, 17, 20]  1    431647  ultralytics.nn.modules.head.Detect           [5, [64, 128, 256]]           \n",
      "YOLO12 summary: 272 layers, 2,569,023 parameters, 2,569,007 gradients, 6.5 GFLOPs\n",
      "\n",
      "\u001b[34m\u001b[1mTensorBoard: \u001b[0mStart with 'tensorboard --logdir runs\\detect\\yolov12n_20e', view at http://localhost:6006/\n",
      "Freezing layer 'model.21.dfl.conv.weight'\n"
     ]
    },
    {
     "name": "stderr",
     "output_type": "stream",
     "text": [
      "\u001b[34m\u001b[1mtrain: \u001b[0mScanning D:\\UAV_obj_det\\datasets\\labels\\train.cache... 2008 images, 0 backgrounds, 0 corrupt: 100%|██████████| 2\u001b[0m\n",
      "\u001b[34m\u001b[1mval: \u001b[0mScanning D:\\UAV_obj_det\\datasets\\labels\\val.cache... 287 images, 0 backgrounds, 0 corrupt: 100%|██████████| 287/28\u001b[0m\n"
     ]
    },
    {
     "name": "stdout",
     "output_type": "stream",
     "text": [
      "Plotting labels to runs\\detect\\yolov12n_20e\\labels.jpg... \n",
      "\u001b[34m\u001b[1moptimizer:\u001b[0m Adam(lr=0.01, momentum=0.937) with parameter groups 113 weight(decay=0.0), 120 weight(decay=0.00046875), 119 bias(decay=0.0)\n",
      "\u001b[34m\u001b[1mTensorBoard: \u001b[0mmodel graph visualization added \n",
      "Image sizes 512 train, 512 val\n",
      "Using 0 dataloader workers\n",
      "Logging results to \u001b[1mruns\\detect\\yolov12n_20e\u001b[0m\n",
      "Starting training for 20 epochs...\n",
      "\n",
      "      Epoch    GPU_mem   box_loss   cls_loss   dfl_loss  Instances       Size\n"
     ]
    },
    {
     "name": "stderr",
     "output_type": "stream",
     "text": [
      "       1/20         0G      3.485      3.168      2.018        133        512: 100%|██████████| 201/201 [12:09<00:00,  \n",
      "                 Class     Images  Instances      Box(P          R      mAP50  mAP50-95): 100%|██████████| 15/15 [00:31"
     ]
    },
    {
     "name": "stdout",
     "output_type": "stream",
     "text": [
      "                   all        287       2460       0.57      0.116     0.0871     0.0255\n"
     ]
    },
    {
     "name": "stderr",
     "output_type": "stream",
     "text": [
      "\n"
     ]
    },
    {
     "name": "stdout",
     "output_type": "stream",
     "text": [
      "\n",
      "      Epoch    GPU_mem   box_loss   cls_loss   dfl_loss  Instances       Size\n"
     ]
    },
    {
     "name": "stderr",
     "output_type": "stream",
     "text": [
      "       2/20         0G      2.626       2.34      1.465         88        512: 100%|██████████| 201/201 [11:44<00:00,  \n",
      "                 Class     Images  Instances      Box(P          R      mAP50  mAP50-95): 100%|██████████| 15/15 [00:32"
     ]
    },
    {
     "name": "stdout",
     "output_type": "stream",
     "text": [
      "                   all        287       2460      0.512      0.234      0.107     0.0399\n"
     ]
    },
    {
     "name": "stderr",
     "output_type": "stream",
     "text": [
      "\n"
     ]
    },
    {
     "name": "stdout",
     "output_type": "stream",
     "text": [
      "\n",
      "      Epoch    GPU_mem   box_loss   cls_loss   dfl_loss  Instances       Size\n"
     ]
    },
    {
     "name": "stderr",
     "output_type": "stream",
     "text": [
      "       3/20         0G      2.421      2.101      1.399        118        512: 100%|██████████| 201/201 [11:42<00:00,  \n",
      "                 Class     Images  Instances      Box(P          R      mAP50  mAP50-95): 100%|██████████| 15/15 [00:37"
     ]
    },
    {
     "name": "stdout",
     "output_type": "stream",
     "text": [
      "                   all        287       2460      0.562      0.129      0.123     0.0432\n"
     ]
    },
    {
     "name": "stderr",
     "output_type": "stream",
     "text": [
      "\n"
     ]
    },
    {
     "name": "stdout",
     "output_type": "stream",
     "text": [
      "\n",
      "      Epoch    GPU_mem   box_loss   cls_loss   dfl_loss  Instances       Size\n"
     ]
    },
    {
     "name": "stderr",
     "output_type": "stream",
     "text": [
      "       4/20         0G      2.281       1.97      1.348         72        512: 100%|██████████| 201/201 [11:43<00:00,  \n",
      "                 Class     Images  Instances      Box(P          R      mAP50  mAP50-95): 100%|██████████| 15/15 [00:31"
     ]
    },
    {
     "name": "stdout",
     "output_type": "stream",
     "text": [
      "                   all        287       2460      0.077      0.357     0.0985     0.0391\n"
     ]
    },
    {
     "name": "stderr",
     "output_type": "stream",
     "text": [
      "\n"
     ]
    },
    {
     "name": "stdout",
     "output_type": "stream",
     "text": [
      "\n",
      "      Epoch    GPU_mem   box_loss   cls_loss   dfl_loss  Instances       Size\n"
     ]
    },
    {
     "name": "stderr",
     "output_type": "stream",
     "text": [
      "       5/20         0G      2.149      1.836      1.302        144        512: 100%|██████████| 201/201 [11:45<00:00,  \n",
      "                 Class     Images  Instances      Box(P          R      mAP50  mAP50-95): 100%|██████████| 15/15 [00:31"
     ]
    },
    {
     "name": "stdout",
     "output_type": "stream",
     "text": [
      "                   all        287       2460      0.616      0.278      0.237      0.101\n"
     ]
    },
    {
     "name": "stderr",
     "output_type": "stream",
     "text": [
      "\n"
     ]
    },
    {
     "name": "stdout",
     "output_type": "stream",
     "text": [
      "\n",
      "      Epoch    GPU_mem   box_loss   cls_loss   dfl_loss  Instances       Size\n"
     ]
    },
    {
     "name": "stderr",
     "output_type": "stream",
     "text": [
      "       6/20         0G      2.068      1.757      1.259        124        512: 100%|██████████| 201/201 [11:42<00:00,  \n",
      "                 Class     Images  Instances      Box(P          R      mAP50  mAP50-95): 100%|██████████| 15/15 [00:30"
     ]
    },
    {
     "name": "stdout",
     "output_type": "stream",
     "text": [
      "                   all        287       2460       0.68      0.251       0.25      0.112\n"
     ]
    },
    {
     "name": "stderr",
     "output_type": "stream",
     "text": [
      "\n"
     ]
    },
    {
     "name": "stdout",
     "output_type": "stream",
     "text": [
      "\n",
      "      Epoch    GPU_mem   box_loss   cls_loss   dfl_loss  Instances       Size\n"
     ]
    },
    {
     "name": "stderr",
     "output_type": "stream",
     "text": [
      "       7/20         0G       2.01      1.687       1.23         70        512: 100%|██████████| 201/201 [11:46<00:00,  \n",
      "                 Class     Images  Instances      Box(P          R      mAP50  mAP50-95): 100%|██████████| 15/15 [00:30"
     ]
    },
    {
     "name": "stdout",
     "output_type": "stream",
     "text": [
      "                   all        287       2460      0.619      0.177      0.171     0.0628\n"
     ]
    },
    {
     "name": "stderr",
     "output_type": "stream",
     "text": [
      "\n"
     ]
    },
    {
     "name": "stdout",
     "output_type": "stream",
     "text": [
      "\n",
      "      Epoch    GPU_mem   box_loss   cls_loss   dfl_loss  Instances       Size\n"
     ]
    },
    {
     "name": "stderr",
     "output_type": "stream",
     "text": [
      "       8/20         0G      1.978      1.642       1.22         95        512: 100%|██████████| 201/201 [11:42<00:00,  \n",
      "                 Class     Images  Instances      Box(P          R      mAP50  mAP50-95): 100%|██████████| 15/15 [00:30"
     ]
    },
    {
     "name": "stdout",
     "output_type": "stream",
     "text": [
      "                   all        287       2460      0.674      0.286      0.279      0.123\n"
     ]
    },
    {
     "name": "stderr",
     "output_type": "stream",
     "text": [
      "\n"
     ]
    },
    {
     "name": "stdout",
     "output_type": "stream",
     "text": [
      "\n",
      "      Epoch    GPU_mem   box_loss   cls_loss   dfl_loss  Instances       Size\n"
     ]
    },
    {
     "name": "stderr",
     "output_type": "stream",
     "text": [
      "       9/20         0G      1.928      1.563      1.208        148        512: 100%|██████████| 201/201 [11:42<00:00,  \n",
      "                 Class     Images  Instances      Box(P          R      mAP50  mAP50-95): 100%|██████████| 15/15 [00:31"
     ]
    },
    {
     "name": "stdout",
     "output_type": "stream",
     "text": [
      "                   all        287       2460      0.722      0.278      0.287      0.138\n"
     ]
    },
    {
     "name": "stderr",
     "output_type": "stream",
     "text": [
      "\n"
     ]
    },
    {
     "name": "stdout",
     "output_type": "stream",
     "text": [
      "\n",
      "      Epoch    GPU_mem   box_loss   cls_loss   dfl_loss  Instances       Size\n"
     ]
    },
    {
     "name": "stderr",
     "output_type": "stream",
     "text": [
      "      10/20         0G      1.876      1.531      1.191         66        512: 100%|██████████| 201/201 [11:42<00:00,  \n",
      "                 Class     Images  Instances      Box(P          R      mAP50  mAP50-95): 100%|██████████| 15/15 [00:31"
     ]
    },
    {
     "name": "stdout",
     "output_type": "stream",
     "text": [
      "                   all        287       2460      0.688      0.281      0.287      0.131\n"
     ]
    },
    {
     "name": "stderr",
     "output_type": "stream",
     "text": [
      "\n"
     ]
    },
    {
     "name": "stdout",
     "output_type": "stream",
     "text": [
      "Closing dataloader mosaic\n",
      "\n",
      "      Epoch    GPU_mem   box_loss   cls_loss   dfl_loss  Instances       Size\n"
     ]
    },
    {
     "name": "stderr",
     "output_type": "stream",
     "text": [
      "      11/20         0G      1.817      1.505      1.181         39        512: 100%|██████████| 201/201 [11:29<00:00,  \n",
      "                 Class     Images  Instances      Box(P          R      mAP50  mAP50-95): 100%|██████████| 15/15 [00:31"
     ]
    },
    {
     "name": "stdout",
     "output_type": "stream",
     "text": [
      "                   all        287       2460      0.745      0.299      0.316      0.152\n"
     ]
    },
    {
     "name": "stderr",
     "output_type": "stream",
     "text": [
      "\n"
     ]
    },
    {
     "name": "stdout",
     "output_type": "stream",
     "text": [
      "\n",
      "      Epoch    GPU_mem   box_loss   cls_loss   dfl_loss  Instances       Size\n"
     ]
    },
    {
     "name": "stderr",
     "output_type": "stream",
     "text": [
      "      12/20         0G      1.785      1.426      1.172         66        512: 100%|██████████| 201/201 [11:30<00:00,  \n",
      "                 Class     Images  Instances      Box(P          R      mAP50  mAP50-95): 100%|██████████| 15/15 [00:30"
     ]
    },
    {
     "name": "stdout",
     "output_type": "stream",
     "text": [
      "                   all        287       2460      0.651      0.375      0.395      0.202\n"
     ]
    },
    {
     "name": "stderr",
     "output_type": "stream",
     "text": [
      "\n"
     ]
    },
    {
     "name": "stdout",
     "output_type": "stream",
     "text": [
      "\n",
      "      Epoch    GPU_mem   box_loss   cls_loss   dfl_loss  Instances       Size\n"
     ]
    },
    {
     "name": "stderr",
     "output_type": "stream",
     "text": [
      "      13/20         0G      1.765      1.372      1.165         69        512: 100%|██████████| 201/201 [11:32<00:00,  \n",
      "                 Class     Images  Instances      Box(P          R      mAP50  mAP50-95): 100%|██████████| 15/15 [00:30"
     ]
    },
    {
     "name": "stdout",
     "output_type": "stream",
     "text": [
      "                   all        287       2460      0.782      0.316      0.388      0.192\n"
     ]
    },
    {
     "name": "stderr",
     "output_type": "stream",
     "text": [
      "\n"
     ]
    },
    {
     "name": "stdout",
     "output_type": "stream",
     "text": [
      "\n",
      "      Epoch    GPU_mem   box_loss   cls_loss   dfl_loss  Instances       Size\n"
     ]
    },
    {
     "name": "stderr",
     "output_type": "stream",
     "text": [
      "      14/20         0G      1.776      1.386      1.164         52        512: 100%|██████████| 201/201 [11:29<00:00,  \n",
      "                 Class     Images  Instances      Box(P          R      mAP50  mAP50-95): 100%|██████████| 15/15 [00:30"
     ]
    },
    {
     "name": "stdout",
     "output_type": "stream",
     "text": [
      "                   all        287       2460      0.754      0.305      0.345      0.168\n"
     ]
    },
    {
     "name": "stderr",
     "output_type": "stream",
     "text": [
      "\n"
     ]
    },
    {
     "name": "stdout",
     "output_type": "stream",
     "text": [
      "\n",
      "      Epoch    GPU_mem   box_loss   cls_loss   dfl_loss  Instances       Size\n"
     ]
    },
    {
     "name": "stderr",
     "output_type": "stream",
     "text": [
      "      15/20         0G       1.72      1.339      1.146        107        512: 100%|██████████| 201/201 [11:30<00:00,  \n",
      "                 Class     Images  Instances      Box(P          R      mAP50  mAP50-95): 100%|██████████| 15/15 [00:30"
     ]
    },
    {
     "name": "stdout",
     "output_type": "stream",
     "text": [
      "                   all        287       2460       0.62      0.387       0.38      0.192\n"
     ]
    },
    {
     "name": "stderr",
     "output_type": "stream",
     "text": [
      "\n"
     ]
    },
    {
     "name": "stdout",
     "output_type": "stream",
     "text": [
      "\n",
      "      Epoch    GPU_mem   box_loss   cls_loss   dfl_loss  Instances       Size\n"
     ]
    },
    {
     "name": "stderr",
     "output_type": "stream",
     "text": [
      "      16/20         0G      1.679      1.298      1.129         69        512: 100%|██████████| 201/201 [11:28<00:00,  \n",
      "                 Class     Images  Instances      Box(P          R      mAP50  mAP50-95): 100%|██████████| 15/15 [00:30"
     ]
    },
    {
     "name": "stdout",
     "output_type": "stream",
     "text": [
      "                   all        287       2460      0.588      0.322      0.366      0.187\n"
     ]
    },
    {
     "name": "stderr",
     "output_type": "stream",
     "text": [
      "\n"
     ]
    },
    {
     "name": "stdout",
     "output_type": "stream",
     "text": [
      "\n",
      "      Epoch    GPU_mem   box_loss   cls_loss   dfl_loss  Instances       Size\n"
     ]
    },
    {
     "name": "stderr",
     "output_type": "stream",
     "text": [
      "      17/20         0G      1.668      1.266      1.116         31        512: 100%|██████████| 201/201 [11:31<00:00,  \n",
      "                 Class     Images  Instances      Box(P          R      mAP50  mAP50-95): 100%|██████████| 15/15 [00:30"
     ]
    },
    {
     "name": "stdout",
     "output_type": "stream",
     "text": [
      "                   all        287       2460      0.793      0.339      0.379      0.197\n"
     ]
    },
    {
     "name": "stderr",
     "output_type": "stream",
     "text": [
      "\n"
     ]
    },
    {
     "name": "stdout",
     "output_type": "stream",
     "text": [
      "\n",
      "      Epoch    GPU_mem   box_loss   cls_loss   dfl_loss  Instances       Size\n"
     ]
    },
    {
     "name": "stderr",
     "output_type": "stream",
     "text": [
      "      18/20         0G      1.633      1.241      1.106         71        512: 100%|██████████| 201/201 [11:30<00:00,  \n",
      "                 Class     Images  Instances      Box(P          R      mAP50  mAP50-95): 100%|██████████| 15/15 [00:30"
     ]
    },
    {
     "name": "stdout",
     "output_type": "stream",
     "text": [
      "                   all        287       2460      0.651      0.382      0.402      0.214\n"
     ]
    },
    {
     "name": "stderr",
     "output_type": "stream",
     "text": [
      "\n"
     ]
    },
    {
     "name": "stdout",
     "output_type": "stream",
     "text": [
      "\n",
      "      Epoch    GPU_mem   box_loss   cls_loss   dfl_loss  Instances       Size\n"
     ]
    },
    {
     "name": "stderr",
     "output_type": "stream",
     "text": [
      "      19/20         0G      1.614      1.201      1.096         86        512: 100%|██████████| 201/201 [11:29<00:00,  \n",
      "                 Class     Images  Instances      Box(P          R      mAP50  mAP50-95): 100%|██████████| 15/15 [00:30"
     ]
    },
    {
     "name": "stdout",
     "output_type": "stream",
     "text": [
      "                   all        287       2460      0.686      0.446      0.434      0.227\n"
     ]
    },
    {
     "name": "stderr",
     "output_type": "stream",
     "text": [
      "\n"
     ]
    },
    {
     "name": "stdout",
     "output_type": "stream",
     "text": [
      "\n",
      "      Epoch    GPU_mem   box_loss   cls_loss   dfl_loss  Instances       Size\n"
     ]
    },
    {
     "name": "stderr",
     "output_type": "stream",
     "text": [
      "      20/20         0G      1.588      1.185      1.091         85        512: 100%|██████████| 201/201 [11:29<00:00,  \n",
      "                 Class     Images  Instances      Box(P          R      mAP50  mAP50-95): 100%|██████████| 15/15 [00:30"
     ]
    },
    {
     "name": "stdout",
     "output_type": "stream",
     "text": [
      "                   all        287       2460      0.756      0.377      0.435      0.227\n"
     ]
    },
    {
     "name": "stderr",
     "output_type": "stream",
     "text": [
      "\n"
     ]
    },
    {
     "name": "stdout",
     "output_type": "stream",
     "text": [
      "\n",
      "20 epochs completed in 4.061 hours.\n",
      "Optimizer stripped from runs\\detect\\yolov12n_20e\\weights\\last.pt, 5.5MB\n",
      "Optimizer stripped from runs\\detect\\yolov12n_20e\\weights\\best.pt, 5.5MB\n",
      "\n",
      "Validating runs\\detect\\yolov12n_20e\\weights\\best.pt...\n",
      "Ultralytics 8.3.94  Python-3.12.4 torch-2.5.1+cpu CPU (AMD Ryzen 5 3500U with Radeon Vega Mobile Gfx)\n",
      "YOLO12 summary (fused): 159 layers, 2,557,703 parameters, 0 gradients, 6.3 GFLOPs\n"
     ]
    },
    {
     "name": "stderr",
     "output_type": "stream",
     "text": [
      "                 Class     Images  Instances      Box(P          R      mAP50  mAP50-95): 100%|██████████| 15/15 [00:24\n"
     ]
    },
    {
     "name": "stdout",
     "output_type": "stream",
     "text": [
      "                   all        287       2460      0.756      0.378      0.435      0.227\n",
      "                Person        171       1168      0.718      0.607      0.683      0.313\n",
      "                   Car        136        719      0.789      0.739      0.805      0.538\n",
      "               Bicycle         53        554      0.639      0.401      0.508      0.235\n",
      "          OtherVehicle          9         12          1          0     0.0257      0.019\n",
      "              DontCare          5          7      0.635      0.143      0.154     0.0312\n",
      "Speed: 1.2ms preprocess, 75.9ms inference, 0.0ms loss, 0.9ms postprocess per image\n",
      "Results saved to \u001b[1mruns\\detect\\yolov12n_20e\u001b[0m\n"
     ]
    }
   ],
   "source": [
    "model = YOLO('yolo12.yaml')\n",
    "\n",
    "result = model.train(\n",
    "    optimizer = 'Adam',\n",
    "    data = r\"D:\\UAV_obj_det\\datasets\\dataset.yaml\",\n",
    "    epochs = 20,\n",
    "    batch = 10,\n",
    "    imgsz = 512,\n",
    "    device = 'cpu',\n",
    "    workers = 4,\n",
    "    patience = 0,\n",
    "    resume = 1,\n",
    "    lr0 = 0.01,\n",
    "    pretrained = False,\n",
    "    name = 'yolov12n_20e'\n",
    ")"
   ]
  },
  {
   "cell_type": "markdown",
   "id": "401000bb-a0b8-4cdb-8012-0b588d01eba4",
   "metadata": {},
   "source": [
    "### Testing YOLOv12 best.pt"
   ]
  },
  {
   "cell_type": "code",
   "execution_count": 6,
   "id": "bed2fe12-7d3e-4e97-a4a6-533b157ea8ba",
   "metadata": {},
   "outputs": [
    {
     "name": "stdout",
     "output_type": "stream",
     "text": [
      "Ultralytics 8.3.94  Python-3.12.4 torch-2.5.1+cpu CPU (AMD Ryzen 5 3500U with Radeon Vega Mobile Gfx)\n",
      "YOLO12 summary (fused): 159 layers, 2,557,703 parameters, 0 gradients, 6.3 GFLOPs\n"
     ]
    },
    {
     "name": "stderr",
     "output_type": "stream",
     "text": [
      "\u001b[34m\u001b[1mval: \u001b[0mScanning D:\\UAV_obj_det\\datasets\\labels\\test.cache... 571 images, 0 backgrounds, 0 corrupt: 100%|██████████| 571/5\u001b[0m\n",
      "                 Class     Images  Instances      Box(P          R      mAP50  mAP50-95): 100%|██████████| 36/36 [00:51\n"
     ]
    },
    {
     "name": "stdout",
     "output_type": "stream",
     "text": [
      "                   all        571       4811      0.793      0.428      0.484      0.266\n",
      "                Person        355       2611      0.762        0.6      0.689      0.319\n",
      "                   Car        267       1339      0.811      0.769      0.842       0.56\n",
      "               Bicycle         86        796      0.702      0.479      0.583      0.305\n",
      "          OtherVehicle         21         34          1          0     0.0132    0.00888\n",
      "              DontCare         23         31      0.689       0.29      0.293      0.136\n",
      "Speed: 1.2ms preprocess, 75.2ms inference, 0.0ms loss, 0.9ms postprocess per image\n",
      "Results saved to \u001b[1mruns\\detect\\val\u001b[0m\n"
     ]
    }
   ],
   "source": [
    "model = YOLO(r\"D:\\UAV_obj_det\\runs\\detect\\yolov12n_20e\\weights\\best.pt\")\n",
    "results = model.val(data = r\"D:\\UAV_obj_det\\datasets\\dataset.yaml\", split = \"test\")"
   ]
  },
  {
   "cell_type": "markdown",
   "id": "acbbc0ea-7291-4de9-bd8b-f87e91652265",
   "metadata": {},
   "source": [
    "### Rain Aumentation Testing YOLOv12 best.pt"
   ]
  },
  {
   "cell_type": "code",
   "execution_count": 5,
   "id": "0ae9d725-1f3f-491a-b5fc-5988b7c38351",
   "metadata": {},
   "outputs": [
    {
     "name": "stdout",
     "output_type": "stream",
     "text": [
      "Ultralytics 8.3.94  Python-3.12.4 torch-2.5.1+cpu CPU (AMD Ryzen 5 3500U with Radeon Vega Mobile Gfx)\n",
      "YOLO12 summary (fused): 159 layers, 2,557,703 parameters, 0 gradients, 6.3 GFLOPs\n"
     ]
    },
    {
     "name": "stderr",
     "output_type": "stream",
     "text": [
      "\u001b[34m\u001b[1mval: \u001b[0mScanning D:\\UAV_obj_det\\datasets\\rain\\labels\\test.cache... 571 images, 0 backgrounds, 0 corrupt: 100%|██████████| \u001b[0m\n",
      "                 Class     Images  Instances      Box(P          R      mAP50  mAP50-95): 100%|██████████| 36/36 [00:47\n"
     ]
    },
    {
     "name": "stdout",
     "output_type": "stream",
     "text": [
      "                   all        571       4811      0.626      0.253      0.299       0.15\n",
      "                Person        355       2611      0.751      0.315      0.512       0.21\n",
      "                   Car        267       1339      0.617      0.521      0.565      0.344\n",
      "               Bicycle         86        796      0.467      0.363      0.362      0.169\n",
      "          OtherVehicle         21         34          1          0    0.00464    0.00327\n",
      "              DontCare         23         31      0.298     0.0645     0.0514     0.0258\n",
      "Speed: 0.9ms preprocess, 72.5ms inference, 0.0ms loss, 0.6ms postprocess per image\n",
      "Results saved to \u001b[1mruns\\detect\\val\u001b[0m\n"
     ]
    }
   ],
   "source": [
    "model_rain = YOLO(r\"D:\\UAV_obj_det\\runs\\detect\\yolov12n_20e\\weights\\best.pt\")\n",
    "metrics_rain = model_rain.val(data = r\"D:\\UAV_obj_det\\datasets\\rain_dataset.yaml\", split = \"test\")"
   ]
  },
  {
   "cell_type": "markdown",
   "id": "59c8f57c-45fe-47bf-a530-d19bf9ba5778",
   "metadata": {},
   "source": [
    "### Rotation Augmention Testing YOLOv12 best.pt"
   ]
  },
  {
   "cell_type": "code",
   "execution_count": 4,
   "id": "aea78fd5-d4a1-4bdc-9e7d-84d2c01144cf",
   "metadata": {},
   "outputs": [
    {
     "name": "stdout",
     "output_type": "stream",
     "text": [
      "Ultralytics 8.3.94  Python-3.12.4 torch-2.5.1+cpu CPU (AMD Ryzen 5 3500U with Radeon Vega Mobile Gfx)\n",
      "YOLO12 summary (fused): 159 layers, 2,557,703 parameters, 0 gradients, 6.3 GFLOPs\n"
     ]
    },
    {
     "name": "stderr",
     "output_type": "stream",
     "text": [
      "\u001b[34m\u001b[1mval: \u001b[0mScanning D:\\UAV_obj_det\\datasets\\rotate\\labels.cache... 571 images, 1 backgrounds, 0 corrupt: 100%|██████████| 571\u001b[0m\n",
      "                 Class     Images  Instances      Box(P          R      mAP50  mAP50-95): 100%|██████████| 36/36 [00:56\n"
     ]
    },
    {
     "name": "stdout",
     "output_type": "stream",
     "text": [
      "                   all        571       4581      0.649      0.308      0.329      0.115\n",
      "                Person        352       2472       0.63      0.465      0.517      0.169\n",
      "                   Car        265       1292      0.671      0.593      0.585      0.232\n",
      "               Bicycle         84        754      0.578      0.381       0.41      0.133\n",
      "          OtherVehicle         21         34          1          0    0.00555    0.00167\n",
      "              DontCare         22         29      0.363      0.103      0.127     0.0377\n",
      "Speed: 1.2ms preprocess, 86.7ms inference, 0.0ms loss, 0.9ms postprocess per image\n",
      "Results saved to \u001b[1mruns\\detect\\val3\u001b[0m\n"
     ]
    }
   ],
   "source": [
    "model_rotate = YOLO(r\"D:\\UAV_obj_det\\runs\\detect\\yolov12n_20e\\weights\\best.pt\")\n",
    "metrics_rotate = model_rotate.val(data = r\"D:\\UAV_obj_det\\datasets\\rotate_dataset.yaml\", split = \"test\")"
   ]
  },
  {
   "cell_type": "markdown",
   "id": "1f5c16ed-2bb8-4ec7-af24-3316bec350f1",
   "metadata": {},
   "source": [
    "### Testing YOLOv12m best.pt"
   ]
  },
  {
   "cell_type": "code",
   "execution_count": 11,
   "id": "5041ce5e-b140-4628-afd9-d0cfefc53f90",
   "metadata": {},
   "outputs": [
    {
     "name": "stdout",
     "output_type": "stream",
     "text": [
      "Ultralytics 8.3.94  Python-3.12.4 torch-2.5.1+cpu CPU (AMD Ryzen 5 3500U with Radeon Vega Mobile Gfx)\n",
      "YOLO12m summary (fused): 169 layers, 20,108,767 parameters, 0 gradients, 67.1 GFLOPs\n"
     ]
    },
    {
     "name": "stderr",
     "output_type": "stream",
     "text": [
      "\u001b[34m\u001b[1mval: \u001b[0mScanning D:\\UAV_obj_det\\datasets\\labels\\test.cache... 571 images, 0 backgrounds, 0 corrupt: 100%|██████████| 571/5\u001b[0m\n",
      "                 Class     Images  Instances      Box(P          R      mAP50  mAP50-95): 100%|██████████| 36/36 [05:15\n"
     ]
    },
    {
     "name": "stdout",
     "output_type": "stream",
     "text": [
      "                   all        571       4811       0.83       0.63      0.728      0.453\n",
      "                Person        355       2611      0.854      0.744      0.829      0.419\n",
      "                   Car        267       1339      0.883      0.908      0.948      0.689\n",
      "               Bicycle         86        796      0.879      0.741      0.858      0.517\n",
      "          OtherVehicle         21         34      0.673      0.364      0.543      0.384\n",
      "              DontCare         23         31      0.859      0.394       0.46      0.259\n",
      "Speed: 1.1ms preprocess, 540.9ms inference, 0.0ms loss, 0.6ms postprocess per image\n",
      "Results saved to \u001b[1mruns\\detect\\val4\u001b[0m\n"
     ]
    }
   ],
   "source": [
    "model = YOLO(r\"D:\\UAV_obj_det\\runs\\detect\\yolov12m_50e\\weights\\best.pt\")\n",
    "metrics = model.val(data = r\"D:\\UAV_obj_det\\datasets\\dataset.yaml\", split = \"test\")"
   ]
  },
  {
   "cell_type": "code",
   "execution_count": null,
   "id": "2284ba0c-d993-4941-8c8f-f104d91567a4",
   "metadata": {},
   "outputs": [],
   "source": []
  }
 ],
 "metadata": {
  "kernelspec": {
   "display_name": "Python 3 (ipykernel)",
   "language": "python",
   "name": "python3"
  },
  "language_info": {
   "codemirror_mode": {
    "name": "ipython",
    "version": 3
   },
   "file_extension": ".py",
   "mimetype": "text/x-python",
   "name": "python",
   "nbconvert_exporter": "python",
   "pygments_lexer": "ipython3",
   "version": "3.12.4"
  }
 },
 "nbformat": 4,
 "nbformat_minor": 5
}
